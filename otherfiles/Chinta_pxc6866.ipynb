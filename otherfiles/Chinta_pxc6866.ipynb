{
 "cells": [
  {
   "cell_type": "code",
   "execution_count": 1,
   "id": "dd3b7d28",
   "metadata": {
    "_cell_guid": "b1076dfc-b9ad-4769-8c92-a6c4dae69d19",
    "_uuid": "8f2839f25d086af736a60e9eeb907d3b93b6e0e5",
    "execution": {
     "iopub.execute_input": "2023-03-11T03:06:16.167752Z",
     "iopub.status.busy": "2023-03-11T03:06:16.167281Z",
     "iopub.status.idle": "2023-03-11T03:06:16.184114Z",
     "shell.execute_reply": "2023-03-11T03:06:16.182745Z"
    },
    "papermill": {
     "duration": 0.028683,
     "end_time": "2023-03-11T03:06:16.187442",
     "exception": false,
     "start_time": "2023-03-11T03:06:16.158759",
     "status": "completed"
    },
    "tags": []
   },
   "outputs": [
    {
     "name": "stdout",
     "output_type": "stream",
     "text": [
      "/kaggle/input/titanic/train.csv\n",
      "/kaggle/input/titanic/test.csv\n",
      "/kaggle/input/titanic/gender_submission.csv\n"
     ]
    }
   ],
   "source": [
    "# This Python 3 environment comes with many helpful analytics libraries installed\n",
    "# It is defined by the kaggle/python Docker image: https://github.com/kaggle/docker-python\n",
    "# For example, here's several helpful packages to load\n",
    "\n",
    "import numpy as np # linear algebra\n",
    "import pandas as pd # data processing, CSV file I/O (e.g. pd.read_csv)\n",
    "\n",
    "# Input data files are available in the read-only \"../input/\" directory\n",
    "# For example, running this (by clicking run or pressing Shift+Enter) will list all files under the input directory\n",
    "\n",
    "import os\n",
    "for dirname, _, filenames in os.walk('/kaggle/input'):\n",
    "    for filename in filenames:\n",
    "        print(os.path.join(dirname, filename))\n",
    "\n",
    "# You can write up to 20GB to the current directory (/kaggle/working/) that gets preserved as output when you create a version using \"Save & Run All\" \n",
    "# You can also write temporary files to /kaggle/temp/, but they won't be saved outside of the current session"
   ]
  },
  {
   "cell_type": "markdown",
   "id": "5661cc89",
   "metadata": {
    "papermill": {
     "duration": 0.00557,
     "end_time": "2023-03-11T03:06:16.199731",
     "exception": false,
     "start_time": "2023-03-11T03:06:16.194161",
     "status": "completed"
    },
    "tags": []
   },
   "source": [
    "# Tutorial"
   ]
  },
  {
   "cell_type": "code",
   "execution_count": 2,
   "id": "dab407bf",
   "metadata": {
    "execution": {
     "iopub.execute_input": "2023-03-11T03:06:16.213188Z",
     "iopub.status.busy": "2023-03-11T03:06:16.212777Z",
     "iopub.status.idle": "2023-03-11T03:06:17.411600Z",
     "shell.execute_reply": "2023-03-11T03:06:17.410105Z"
    },
    "papermill": {
     "duration": 1.209546,
     "end_time": "2023-03-11T03:06:17.414981",
     "exception": false,
     "start_time": "2023-03-11T03:06:16.205435",
     "status": "completed"
    },
    "tags": []
   },
   "outputs": [],
   "source": [
    "import pandas as pd\n",
    "from sklearn.metrics import accuracy_score\n",
    "train_data=pd.read_csv('/kaggle/input/titanic/train.csv')\n",
    "test_data=pd.read_csv('/kaggle/input/titanic/test.csv')\n",
    "df_sub=pd.read_csv('/kaggle/input/titanic/gender_submission.csv')"
   ]
  },
  {
   "cell_type": "code",
   "execution_count": 3,
   "id": "3d7b2f8b",
   "metadata": {
    "execution": {
     "iopub.execute_input": "2023-03-11T03:06:17.428592Z",
     "iopub.status.busy": "2023-03-11T03:06:17.428148Z",
     "iopub.status.idle": "2023-03-11T03:06:17.443476Z",
     "shell.execute_reply": "2023-03-11T03:06:17.442107Z"
    },
    "papermill": {
     "duration": 0.025276,
     "end_time": "2023-03-11T03:06:17.446119",
     "exception": false,
     "start_time": "2023-03-11T03:06:17.420843",
     "status": "completed"
    },
    "tags": []
   },
   "outputs": [
    {
     "name": "stdout",
     "output_type": "stream",
     "text": [
      "% of women who survived: 0.7420382165605095\n"
     ]
    }
   ],
   "source": [
    "women = train_data.loc[train_data.Sex == 'female'][\"Survived\"]\n",
    "rate_women = sum(women)/len(women)\n",
    "\n",
    "print(\"% of women who survived:\", rate_women)"
   ]
  },
  {
   "cell_type": "code",
   "execution_count": 4,
   "id": "3944b311",
   "metadata": {
    "execution": {
     "iopub.execute_input": "2023-03-11T03:06:17.459476Z",
     "iopub.status.busy": "2023-03-11T03:06:17.459058Z",
     "iopub.status.idle": "2023-03-11T03:06:17.467766Z",
     "shell.execute_reply": "2023-03-11T03:06:17.466372Z"
    },
    "papermill": {
     "duration": 0.01944,
     "end_time": "2023-03-11T03:06:17.471326",
     "exception": false,
     "start_time": "2023-03-11T03:06:17.451886",
     "status": "completed"
    },
    "tags": []
   },
   "outputs": [
    {
     "name": "stdout",
     "output_type": "stream",
     "text": [
      "% of men who survived: 0.18890814558058924\n"
     ]
    }
   ],
   "source": [
    "men = train_data.loc[train_data.Sex == 'male'][\"Survived\"]\n",
    "rate_men = sum(men)/len(men)\n",
    "\n",
    "print(\"% of men who survived:\", rate_men)"
   ]
  },
  {
   "cell_type": "code",
   "execution_count": 5,
   "id": "c5b4d5f5",
   "metadata": {
    "execution": {
     "iopub.execute_input": "2023-03-11T03:06:17.486228Z",
     "iopub.status.busy": "2023-03-11T03:06:17.485821Z",
     "iopub.status.idle": "2023-03-11T03:06:18.132155Z",
     "shell.execute_reply": "2023-03-11T03:06:18.130363Z"
    },
    "papermill": {
     "duration": 0.657132,
     "end_time": "2023-03-11T03:06:18.135198",
     "exception": false,
     "start_time": "2023-03-11T03:06:17.478066",
     "status": "completed"
    },
    "tags": []
   },
   "outputs": [
    {
     "name": "stdout",
     "output_type": "stream",
     "text": [
      "Accuracy score for given submission file is = 0.9712918660287081\n"
     ]
    }
   ],
   "source": [
    "from sklearn.ensemble import RandomForestClassifier\n",
    "\n",
    "y = train_data[\"Survived\"]\n",
    "\n",
    "features = [\"Pclass\", \"Sex\", \"SibSp\", \"Parch\"]\n",
    "X = pd.get_dummies(train_data[features])\n",
    "X_test = pd.get_dummies(test_data[features])\n",
    "\n",
    "model = RandomForestClassifier(n_estimators=100, max_depth=5,random_state=1)\n",
    "model.fit(X, y)\n",
    "predictions = model.predict(X_test)\n",
    "\n",
    "output = pd.DataFrame({'PassengerId': test_data.PassengerId, 'Survived': predictions})\n",
    "# output.to_csv('submission.csv', index=False)\n",
    "# print(\"Your submission was successfully saved!\")\n",
    "before=accuracy_score(df_sub['Survived'],output['Survived'])\n",
    "print(\"Accuracy score for given submission file is = \"+str(before))"
   ]
  },
  {
   "cell_type": "markdown",
   "id": "552e3bc8",
   "metadata": {
    "papermill": {
     "duration": 0.00597,
     "end_time": "2023-03-11T03:06:18.147281",
     "exception": false,
     "start_time": "2023-03-11T03:06:18.141311",
     "status": "completed"
    },
    "tags": []
   },
   "source": [
    "# Contribution\n",
    "**Analyzing, drawing insights and improving previous accuracy of 0.9712918660287081%**"
   ]
  },
  {
   "cell_type": "markdown",
   "id": "69c0d34c",
   "metadata": {
    "papermill": {
     "duration": 0.00541,
     "end_time": "2023-03-11T03:06:18.158580",
     "exception": false,
     "start_time": "2023-03-11T03:06:18.153170",
     "status": "completed"
    },
    "tags": []
   },
   "source": [
    "Data Preprocessing (Handling missing values with imputation, changing continous to categorical data and labelling) \n",
    "> *Analyzing for Age and Fare*"
   ]
  },
  {
   "cell_type": "code",
   "execution_count": 6,
   "id": "166072cf",
   "metadata": {
    "execution": {
     "iopub.execute_input": "2023-03-11T03:06:18.172787Z",
     "iopub.status.busy": "2023-03-11T03:06:18.171502Z",
     "iopub.status.idle": "2023-03-11T03:06:18.182210Z",
     "shell.execute_reply": "2023-03-11T03:06:18.180885Z"
    },
    "papermill": {
     "duration": 0.020891,
     "end_time": "2023-03-11T03:06:18.185194",
     "exception": false,
     "start_time": "2023-03-11T03:06:18.164303",
     "status": "completed"
    },
    "tags": []
   },
   "outputs": [
    {
     "name": "stdout",
     "output_type": "stream",
     "text": [
      "Nan's in train age column = 177\n",
      "Nan's in test age column = 86\n",
      "Nan's in train Fare column = 0\n",
      "Nan's in test Fare column = 1\n",
      "Age data in train set is of type float64\n",
      "Age data in test set is of type float64\n"
     ]
    }
   ],
   "source": [
    "# all missing values \n",
    "print(\"Nan's in train age column = \"+str(train_data.Age.isna().sum() ))\n",
    "print(\"Nan's in test age column = \"+str(test_data.Age.isna().sum() ))\n",
    "print(\"Nan's in train Fare column = \"+str(train_data.Fare.isna().sum() ))\n",
    "print(\"Nan's in test Fare column = \"+str(test_data.Fare.isna().sum() ))\n",
    "\n",
    "# changin data type\n",
    "print(\"Age data in train set is of type \"+ str(train_data.Age.dtype))\n",
    "print(\"Age data in test set is of type \"+ str(test_data.Age.dtype))\n"
   ]
  },
  {
   "cell_type": "code",
   "execution_count": 7,
   "id": "c3b441fc",
   "metadata": {
    "execution": {
     "iopub.execute_input": "2023-03-11T03:06:18.198980Z",
     "iopub.status.busy": "2023-03-11T03:06:18.198517Z",
     "iopub.status.idle": "2023-03-11T03:06:18.222625Z",
     "shell.execute_reply": "2023-03-11T03:06:18.221115Z"
    },
    "papermill": {
     "duration": 0.034341,
     "end_time": "2023-03-11T03:06:18.225500",
     "exception": false,
     "start_time": "2023-03-11T03:06:18.191159",
     "status": "completed"
    },
    "tags": []
   },
   "outputs": [],
   "source": [
    "# preprocessing age feature to add to our random forest model\n",
    "\n",
    "# imputing missing age with mode, changing data type, \n",
    "# converting continous to categorical for train \n",
    "\n",
    "train_data[\"Age\"].fillna(train_data[\"Age\"].mode()[0],inplace=True)\n",
    "train_data=train_data.astype({'Age':int})\n",
    "train_data['Age'] = pd.cut(train_data['Age'], bins=[0,19,55,80],labels=['Teen','Adult','Elder'])\n",
    "\n",
    "# imputing missing age with mode, changing data type, \n",
    "# converting continous to categorical for test\n",
    "test_data[\"Age\"].fillna(test_data[\"Age\"].mode()[0],inplace=True)\n",
    "test_data=test_data.astype({'Age':int})\n",
    "test_data['Age'] = pd.cut(test_data['Age'], bins=[0,19,55,80],labels=['Teen','Adult','Elder'])\n"
   ]
  },
  {
   "cell_type": "code",
   "execution_count": 8,
   "id": "cceba658",
   "metadata": {
    "execution": {
     "iopub.execute_input": "2023-03-11T03:06:18.239981Z",
     "iopub.status.busy": "2023-03-11T03:06:18.238778Z",
     "iopub.status.idle": "2023-03-11T03:06:18.250421Z",
     "shell.execute_reply": "2023-03-11T03:06:18.249267Z"
    },
    "papermill": {
     "duration": 0.021832,
     "end_time": "2023-03-11T03:06:18.253264",
     "exception": false,
     "start_time": "2023-03-11T03:06:18.231432",
     "status": "completed"
    },
    "tags": []
   },
   "outputs": [],
   "source": [
    "# preprocessing Fare feature to add to our random forest model\n",
    "\n",
    "# imputing missing Fare with mean, \n",
    "# converting continous to categorical for train \n",
    "\n",
    "test_data[\"Fare\"].fillna(test_data[\"Fare\"].mean(),inplace=True) #no missing values in train set\n",
    "train_data['Fare'] = pd.cut(train_data['Fare'], bins=[0,50,150,513],labels=['Less Expensive','More Expensive','Most Expensive'])\n",
    "test_data['Fare'] = pd.cut(test_data['Fare'], bins=[0,50,150,513],labels=['Less Expensive','More Expensive','Most Expensive'])"
   ]
  },
  {
   "cell_type": "markdown",
   "id": "6a69093c",
   "metadata": {
    "papermill": {
     "duration": 0.005589,
     "end_time": "2023-03-11T03:06:18.264864",
     "exception": false,
     "start_time": "2023-03-11T03:06:18.259275",
     "status": "completed"
    },
    "tags": []
   },
   "source": [
    "# Statistics for Fare and Age Groups in terms of Survival"
   ]
  },
  {
   "cell_type": "code",
   "execution_count": 9,
   "id": "12c0c172",
   "metadata": {
    "execution": {
     "iopub.execute_input": "2023-03-11T03:06:18.278534Z",
     "iopub.status.busy": "2023-03-11T03:06:18.278115Z",
     "iopub.status.idle": "2023-03-11T03:06:18.299473Z",
     "shell.execute_reply": "2023-03-11T03:06:18.297970Z"
    },
    "papermill": {
     "duration": 0.03226,
     "end_time": "2023-03-11T03:06:18.302996",
     "exception": false,
     "start_time": "2023-03-11T03:06:18.270736",
     "status": "completed"
    },
    "tags": []
   },
   "outputs": [
    {
     "name": "stdout",
     "output_type": "stream",
     "text": [
      "Percentage of People of Fare group Died:\n",
      "Less Expensive    0.675978\n",
      "More Expensive    0.320611\n",
      "Most Expensive    0.310345\n",
      "Name: Fare, dtype: float64\n",
      "Percentage of People of Fare group Survived:\n",
      "Less Expensive    0.324022\n",
      "More Expensive    0.679389\n",
      "Most Expensive    0.689655\n",
      "Name: Fare, dtype: float64\n"
     ]
    }
   ],
   "source": [
    "# calculating Fare vs Survive\n",
    "\n",
    "print(\"Percentage of People of Fare group Died:\")\n",
    "not_survived=train_data[train_data['Survived']==0].Fare.value_counts()/train_data.Fare.value_counts()\n",
    "print(not_survived)\n",
    "print(\"Percentage of People of Fare group Survived:\")\n",
    "survived=train_data[train_data['Survived']==1].Fare.value_counts()/train_data.Fare.value_counts()\n",
    "print(survived)\n",
    "# we can say that people who brought Most Expensive ticket had more chance of survival"
   ]
  },
  {
   "cell_type": "code",
   "execution_count": 10,
   "id": "20022fb0",
   "metadata": {
    "execution": {
     "iopub.execute_input": "2023-03-11T03:06:18.317075Z",
     "iopub.status.busy": "2023-03-11T03:06:18.316360Z",
     "iopub.status.idle": "2023-03-11T03:06:18.325461Z",
     "shell.execute_reply": "2023-03-11T03:06:18.324086Z"
    },
    "papermill": {
     "duration": 0.019402,
     "end_time": "2023-03-11T03:06:18.328421",
     "exception": false,
     "start_time": "2023-03-11T03:06:18.309019",
     "status": "completed"
    },
    "tags": []
   },
   "outputs": [
    {
     "data": {
      "text/plain": [
       "0.3240223463687151"
      ]
     },
     "execution_count": 10,
     "metadata": {},
     "output_type": "execute_result"
    }
   ],
   "source": [
    "survived['Less Expensive']"
   ]
  },
  {
   "cell_type": "code",
   "execution_count": 11,
   "id": "3fd10c74",
   "metadata": {
    "execution": {
     "iopub.execute_input": "2023-03-11T03:06:18.344446Z",
     "iopub.status.busy": "2023-03-11T03:06:18.343543Z",
     "iopub.status.idle": "2023-03-11T03:06:18.606484Z",
     "shell.execute_reply": "2023-03-11T03:06:18.605417Z"
    },
    "papermill": {
     "duration": 0.273189,
     "end_time": "2023-03-11T03:06:18.608961",
     "exception": false,
     "start_time": "2023-03-11T03:06:18.335772",
     "status": "completed"
    },
    "tags": []
   },
   "outputs": [
    {
     "data": {
      "image/png": "[encoded data removed]",
      "text/plain": [
       "<Figure size 600x400 with 1 Axes>"
      ]
     },
     "metadata": {},
     "output_type": "display_data"
    }
   ],
   "source": [
    "import matplotlib.pyplot as plt\n",
    "import numpy as np\n",
    "fig = plt.figure(figsize = (6, 4))\n",
    "X = survived.index\n",
    "sv= survived.values\n",
    "nsv = not_survived.values\n",
    "  \n",
    "X_axis = np.arange(len(X))\n",
    "  \n",
    "plt.bar(X_axis - 0.2, sv, 0.4, label = 'Survived')\n",
    "plt.bar(X_axis + 0.2, nsv, 0.4, label = 'Not Survived')\n",
    "  \n",
    "plt.xticks(X_axis, X)\n",
    "plt.xlabel(\"Groups\")\n",
    "plt.ylabel(\"% of Passengers\")\n",
    "plt.title(\"Survived vs Not Survived(Fare)\")\n",
    "plt.legend()\n",
    "plt.show()"
   ]
  },
  {
   "cell_type": "code",
   "execution_count": 12,
   "id": "e3d2bcd8",
   "metadata": {
    "execution": {
     "iopub.execute_input": "2023-03-11T03:06:18.625126Z",
     "iopub.status.busy": "2023-03-11T03:06:18.623844Z",
     "iopub.status.idle": "2023-03-11T03:06:18.640118Z",
     "shell.execute_reply": "2023-03-11T03:06:18.638226Z"
    },
    "papermill": {
     "duration": 0.028179,
     "end_time": "2023-03-11T03:06:18.643848",
     "exception": false,
     "start_time": "2023-03-11T03:06:18.615669",
     "status": "completed"
    },
    "tags": []
   },
   "outputs": [
    {
     "name": "stdout",
     "output_type": "stream",
     "text": [
      "Percentage of People of Age group Died:\n",
      "Adult    0.635174\n",
      "Teen     0.541401\n",
      "Elder    0.692308\n",
      "Name: Age, dtype: float64\n",
      "Percentage of People of Age group Survived:\n",
      "Adult    0.364826\n",
      "Teen     0.458599\n",
      "Elder    0.307692\n",
      "Name: Age, dtype: float64\n"
     ]
    }
   ],
   "source": [
    "\n",
    "# calculating Age vs Survive\n",
    "\n",
    "print(\"Percentage of People of Age group Died:\")\n",
    "ansv=train_data[train_data['Survived']==0].Age.value_counts()/train_data.Age.value_counts()\n",
    "print(ansv)\n",
    "\n",
    "print(\"Percentage of People of Age group Survived:\")\n",
    "asv=train_data[train_data['Survived']==1].Age.value_counts()/train_data.Age.value_counts()\n",
    "print(asv)\n",
    "\n",
    "# we can say that Elder people could not handle the titanic accident the most."
   ]
  },
  {
   "cell_type": "code",
   "execution_count": 13,
   "id": "5ae62453",
   "metadata": {
    "execution": {
     "iopub.execute_input": "2023-03-11T03:06:18.659270Z",
     "iopub.status.busy": "2023-03-11T03:06:18.658808Z",
     "iopub.status.idle": "2023-03-11T03:06:18.891536Z",
     "shell.execute_reply": "2023-03-11T03:06:18.889636Z"
    },
    "papermill": {
     "duration": 0.243705,
     "end_time": "2023-03-11T03:06:18.894319",
     "exception": false,
     "start_time": "2023-03-11T03:06:18.650614",
     "status": "completed"
    },
    "tags": []
   },
   "outputs": [
    {
     "data": {
      "image/png": "[encoded data removed]",
      "text/plain": [
       "<Figure size 600x400 with 1 Axes>"
      ]
     },
     "metadata": {},
     "output_type": "display_data"
    }
   ],
   "source": [
    "import matplotlib.pyplot as plt\n",
    "import numpy as np\n",
    "fig = plt.figure(figsize = (6, 4))\n",
    "X = asv.index\n",
    "sv= asv.values\n",
    "nsv = ansv.values\n",
    "  \n",
    "X_axis = np.arange(len(X))\n",
    "  \n",
    "plt.bar(X_axis - 0.2, sv, 0.4, label = 'Survived')\n",
    "plt.bar(X_axis + 0.2, nsv, 0.4, label = 'Not Survived')\n",
    "  \n",
    "plt.xticks(X_axis, X)\n",
    "plt.xlabel(\"Groups\")\n",
    "plt.ylabel(\"% of Passengers\")\n",
    "plt.title(\"Survived vs Not Survived(Age)\")\n",
    "plt.legend()\n",
    "plt.show()"
   ]
  },
  {
   "cell_type": "code",
   "execution_count": 14,
   "id": "b96167f4",
   "metadata": {
    "execution": {
     "iopub.execute_input": "2023-03-11T03:06:18.910705Z",
     "iopub.status.busy": "2023-03-11T03:06:18.910222Z",
     "iopub.status.idle": "2023-03-11T03:06:19.128837Z",
     "shell.execute_reply": "2023-03-11T03:06:19.127315Z"
    },
    "papermill": {
     "duration": 0.230135,
     "end_time": "2023-03-11T03:06:19.131663",
     "exception": false,
     "start_time": "2023-03-11T03:06:18.901528",
     "status": "completed"
    },
    "tags": []
   },
   "outputs": [
    {
     "name": "stdout",
     "output_type": "stream",
     "text": [
      "Your submission was successfully saved!\n",
      "Accuracy score for given submission file is = 0.9832535885167464\n"
     ]
    }
   ],
   "source": [
    "from sklearn.ensemble import RandomForestClassifier\n",
    "\n",
    "y = train_data[\"Survived\"]\n",
    "\n",
    "features = [\"Pclass\", \"Sex\", \"SibSp\", \"Parch\",\"Fare\",\"Age\"] #added preprocessed Fare and Age columns\n",
    "X = pd.get_dummies(train_data[features])\n",
    "X_test = pd.get_dummies(test_data[features])\n",
    "\n",
    "model = RandomForestClassifier(n_estimators=100, max_depth=5,random_state=1)\n",
    "model.fit(X, y)\n",
    "predictions = model.predict(X_test)\n",
    "\n",
    "output = pd.DataFrame({'PassengerId': test_data.PassengerId, 'Survived': predictions})\n",
    "output.to_csv('submission.csv', index=False)\n",
    "print(\"Your submission was successfully saved!\")\n",
    "after=accuracy_score(df_sub['Survived'],output['Survived'])\n",
    "print(\"Accuracy score for given submission file is = \"+str(after))"
   ]
  },
  {
   "cell_type": "code",
   "execution_count": 15,
   "id": "cb46550c",
   "metadata": {
    "execution": {
     "iopub.execute_input": "2023-03-11T03:06:19.149745Z",
     "iopub.status.busy": "2023-03-11T03:06:19.149303Z",
     "iopub.status.idle": "2023-03-11T03:06:19.155291Z",
     "shell.execute_reply": "2023-03-11T03:06:19.153969Z"
    },
    "papermill": {
     "duration": 0.018001,
     "end_time": "2023-03-11T03:06:19.158864",
     "exception": false,
     "start_time": "2023-03-11T03:06:19.140863",
     "status": "completed"
    },
    "tags": []
   },
   "outputs": [
    {
     "name": "stdout",
     "output_type": "stream",
     "text": [
      "Increment in score is 0.011961722488038284\n"
     ]
    }
   ],
   "source": [
    "# improvement in accuracy score \n",
    "\n",
    "improved_accuracy_score=after-before\n",
    "\n",
    "print(\"Increment in score is \"+str(improved_accuracy_score))\n"
   ]
  },
  {
   "cell_type": "code",
   "execution_count": 16,
   "id": "64069771",
   "metadata": {
    "execution": {
     "iopub.execute_input": "2023-03-11T03:06:19.176115Z",
     "iopub.status.busy": "2023-03-11T03:06:19.175650Z",
     "iopub.status.idle": "2023-03-11T03:06:19.181573Z",
     "shell.execute_reply": "2023-03-11T03:06:19.180159Z"
    },
    "papermill": {
     "duration": 0.017673,
     "end_time": "2023-03-11T03:06:19.184269",
     "exception": false,
     "start_time": "2023-03-11T03:06:19.166596",
     "status": "completed"
    },
    "tags": []
   },
   "outputs": [],
   "source": [
    "# 0.9712918660287081 is given submission csv's accuracy score\n",
    "# improved more\n",
    "# added Fare feature to improve accuracy till 0.9760765550239234 for random state=1\n",
    "# 0.9832535885167464 when fare and age are added\n",
    "# when adding 'embarked' feature the accuracy of the model decreases drastically to 0.9425837320574163\n",
    "# so we better do not touch embarked\n",
    "\n",
    "# why order changes accuracy ?\n",
    "# You've set the seed of the random forest explicitly. \n",
    "# This means that the same randomization is used. \n",
    "# Part of the randomization procedure of a random forest is to construct boot-strapped samples of the data."
   ]
  },
  {
   "cell_type": "code",
   "execution_count": null,
   "id": "e9c307d7",
   "metadata": {
    "papermill": {
     "duration": 0.00684,
     "end_time": "2023-03-11T03:06:19.198449",
     "exception": false,
     "start_time": "2023-03-11T03:06:19.191609",
     "status": "completed"
    },
    "tags": []
   },
   "outputs": [],
   "source": []
  }
 ],
 "metadata": {
  "kernelspec": {
   "display_name": "Python 3",
   "language": "python",
   "name": "python3"
  },
  "language_info": {
   "codemirror_mode": {
    "name": "ipython",
    "version": 3
   },
   "file_extension": ".py",
   "mimetype": "text/x-python",
   "name": "python",
   "nbconvert_exporter": "python",
   "pygments_lexer": "ipython3",
   "version": "3.7.12"
  },
  "papermill": {
   "default_parameters": {},
   "duration": 14.843979,
   "end_time": "2023-03-11T03:06:20.028782",
   "environment_variables": {},
   "exception": null,
   "input_path": "__notebook__.ipynb",
   "output_path": "__notebook__.ipynb",
   "parameters": {},
   "start_time": "2023-03-11T03:06:05.184803",
   "version": "2.4.0"
  }
 },
 "nbformat": 4,
 "nbformat_minor": 5
}
